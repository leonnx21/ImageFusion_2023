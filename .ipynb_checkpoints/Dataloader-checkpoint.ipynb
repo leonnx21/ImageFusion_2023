{
 "cells": [
  {
   "cell_type": "code",
   "execution_count": 1,
   "id": "a5f1ac11",
   "metadata": {},
   "outputs": [],
   "source": [
    "%matplotlib inline"
   ]
  },
  {
   "cell_type": "code",
   "execution_count": 2,
   "id": "2d8e44a4",
   "metadata": {},
   "outputs": [],
   "source": [
    "import os\n",
    "import numpy as np\n",
    "from PIL import Image\n",
    "from PIL import ImageDraw \n",
    "from utils import CustomVisionDataset_test, mkdir\n",
    "from torchvision.utils import save_image\n",
    "import torchvision.transforms as transforms\n",
    "import numpy as np\n",
    "import torch\n",
    "  \n",
    "from torch.utils.data import DataLoader\n",
    "\n",
    "from torchvision.transforms import ToTensor\n",
    "import matplotlib.pyplot as plt"
   ]
  },
  {
   "cell_type": "code",
   "execution_count": 3,
   "id": "16caf07c",
   "metadata": {},
   "outputs": [],
   "source": [
    "def loader_function(root, sub1, sub2):\n",
    "    Data_set = CustomVisionDataset_test(root, sub1, sub2)\n",
    "    Loader = torch.utils.data.DataLoader(Data_set, shuffle=False)\n",
    "    return Loader"
   ]
  },
  {
   "cell_type": "code",
   "execution_count": 4,
   "id": "37f86d74",
   "metadata": {},
   "outputs": [],
   "source": [
    "\n",
    "root = 'Original_test_image'\n",
    "sub1 = 'VIS'\n",
    "sub2 = 'IR'  "
   ]
  },
  {
   "cell_type": "code",
   "execution_count": null,
   "id": "97da3d43",
   "metadata": {},
   "outputs": [],
   "source": [
    "dataloader = loader_function('/storage/locnx/CBD/train/', 'VIS', 'IR')\n",
    "bs = len(dataloader)\n",
    "\n",
    "for i, (rgb, gt, rp, gtp) in enumerate(dataloader):\n",
    "    print(f'batch {i+1}:')\n",
    "    # some plots\n",
    "    for i in range(1):\n",
    "        print(rgb[i].shape)\n",
    "        print(gt[i].shape)\n",
    "        print(rp[i])\n",
    "        print(gtp[i])\n",
    "        \n",
    "        plt.figure(figsize=(10, 5))\n",
    "        plt.subplot(221)\n",
    "        plt.imshow(rgb[i][0])\n",
    "        plt.title(f'RGB img{i+1}')\n",
    "        plt.subplot(222)\n",
    "        plt.imshow(gt[i][0])\n",
    "        plt.title(f'GT img{i+1}')\n",
    "        plt.show()"
   ]
  },
  {
   "cell_type": "code",
   "execution_count": null,
   "id": "b3fdb4cc",
   "metadata": {},
   "outputs": [
    {
     "name": "stdout",
     "output_type": "stream",
     "text": [
      "tensor([[[0.7608, 0.7608, 0.7608,  ..., 0.7922, 0.7961, 0.7961],\n",
      "         [0.7608, 0.7608, 0.7608,  ..., 0.7961, 0.8000, 0.8000],\n",
      "         [0.7608, 0.7608, 0.7608,  ..., 0.7961, 0.8000, 0.8000],\n",
      "         ...,\n",
      "         [0.6157, 0.6157, 0.6157,  ..., 0.5961, 0.5922, 0.5961],\n",
      "         [0.6157, 0.6157, 0.6157,  ..., 0.5922, 0.5922, 0.6000],\n",
      "         [0.6157, 0.6157, 0.6118,  ..., 0.5843, 0.5882, 0.5961]],\n",
      "\n",
      "        [[0.8392, 0.8392, 0.8392,  ..., 0.8627, 0.8627, 0.8627],\n",
      "         [0.8392, 0.8392, 0.8392,  ..., 0.8667, 0.8667, 0.8667],\n",
      "         [0.8392, 0.8392, 0.8392,  ..., 0.8667, 0.8667, 0.8667],\n",
      "         ...,\n",
      "         [0.6196, 0.6196, 0.6196,  ..., 0.6039, 0.6000, 0.6039],\n",
      "         [0.6196, 0.6196, 0.6196,  ..., 0.6000, 0.6000, 0.6078],\n",
      "         [0.6196, 0.6196, 0.6157,  ..., 0.6039, 0.6078, 0.6157]],\n",
      "\n",
      "        [[0.8824, 0.8824, 0.8824,  ..., 0.9020, 0.9020, 0.9020],\n",
      "         [0.8824, 0.8824, 0.8824,  ..., 0.9059, 0.9059, 0.9059],\n",
      "         [0.8824, 0.8824, 0.8824,  ..., 0.9059, 0.9059, 0.9059],\n",
      "         ...,\n",
      "         [0.5961, 0.5961, 0.5961,  ..., 0.5843, 0.5804, 0.5843],\n",
      "         [0.5961, 0.5961, 0.5961,  ..., 0.5804, 0.5804, 0.5882],\n",
      "         [0.5961, 0.5961, 0.5922,  ..., 0.5804, 0.5843, 0.5922]]])\n"
     ]
    }
   ],
   "source": [
    "for i, (rgb, gt, rp, gtp) in enumerate(dataloader):\n",
    "    if i == 0:\n",
    "        print(rgb[i])"
   ]
  },
  {
   "cell_type": "code",
   "execution_count": null,
   "id": "708638b2",
   "metadata": {},
   "outputs": [],
   "source": []
  }
 ],
 "metadata": {
  "kernelspec": {
   "display_name": "Python 3 (ipykernel)",
   "language": "python",
   "name": "python3"
  },
  "language_info": {
   "codemirror_mode": {
    "name": "ipython",
    "version": 3
   },
   "file_extension": ".py",
   "mimetype": "text/x-python",
   "name": "python",
   "nbconvert_exporter": "python",
   "pygments_lexer": "ipython3",
   "version": "3.10.12"
  }
 },
 "nbformat": 4,
 "nbformat_minor": 5
}
